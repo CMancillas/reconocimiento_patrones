{
 "cells": [
  {
   "cell_type": "code",
   "execution_count": null,
   "id": "5b8dc24e-3906-40e7-af0e-e04f7b03e022",
   "metadata": {},
   "outputs": [],
   "source": [
    "import pandas as pd \n",
    "from sklearn.preprocessing import StandardScaler\n",
    "from sklearn.cluster import KMeans\n",
    "import matplotlib.pyplot as plt\n",
    "\n",
    "penguins = pd.read_csv(\"penguins.csv\")\n",
    "penguins_dummies = pd.get_dummies(penguins[\"sex\"], drop_first=True)\n",
    "\n",
    "penguins_dummies = pd.concat([penguins, penguins_dummies], axis=1)\n",
    "penguins_dummies = penguins_dummies.drop(\"sex\", axis=1)\n",
    "\n",
    "scaler = StandardScaler()\n",
    "penguins_scaled = pd.DataFrame(scaler.fit_transform(penguins_dummies),\n",
    "                               columns=penguins_dummies.columns)\n",
    "\n",
    "# Declaring variables for use (elbow method)\n",
    "inertia = []\n",
    "\n",
    "num_clusters = range(1, 10)\n",
    "\n",
    "# Populating inertia for various clusters\n",
    "for i in num_clusters:\n",
    "    kmeans = KMeans(n_clusters=i, random_state=42).fit(penguins_scaled)\n",
    "    inertia.append(kmeans.inertia_)\n",
    "\n",
    "# Plotting elbow plot data\n",
    "plt.plot(range(1,10), inertia, marker='o')\n",
    "plt.xlabel(\"Number of clusters\")\n",
    "plt.ylabel(\"Inertia\")\n",
    "plt.title(\"Elbow Method\")\n",
    "plt.show()\n",
    "\n",
    "n_clusters=4\n",
    "\n",
    "# Run the k-means clustering algorithm with the optimal number of clusters\n",
    "\n",
    "kmeans = KMeans(n_clusters=n_clusters, random_state=42).fit(penguins_scaled)\n",
    "penguins_dummies[\"label\"] = kmeans.labels_\n",
    "\n",
    "#visualize the clusters ('Male' column)\n",
    "plt.scatter(penguins_dummies[\"label\"], penguins_dummies.iloc[:, -2], c=kmeans.labels_, cmap='viridis')\n",
    "plt.xlabel('Cluster')\n",
    "plt.ylabel('Male')\n",
    "plt.xticks(range(penguins_dummies['label'].min(), int(penguins_dummies['label'].max()) + 1))\n",
    "plt.title(f'K-means Clustering (K={n_clusters})')\n",
    "plt.show()\n",
    "          \n",
    "# Create final 'stat_penguins' DataFrame\n",
    "numeric_columns = ['culmen_length_mm', 'culmen_depth_mm', 'flipper_length_mm', 'label']\n",
    "stat_penguins = penguins_dummies[numeric_columns].groupby('label').mean()\n",
    "stat_penguins"
   ]
  }
 ],
 "metadata": {
  "kernelspec": {
   "display_name": "Python 3 (ipykernel)",
   "language": "python",
   "name": "python3"
  },
  "language_info": {
   "codemirror_mode": {
    "name": "ipython",
    "version": 3
   },
   "file_extension": ".py",
   "mimetype": "text/x-python",
   "name": "python",
   "nbconvert_exporter": "python",
   "pygments_lexer": "ipython3",
   "version": "3.12.4"
  }
 },
 "nbformat": 4,
 "nbformat_minor": 5
}
